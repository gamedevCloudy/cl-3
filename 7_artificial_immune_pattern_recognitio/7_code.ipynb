{
  "nbformat": 4,
  "nbformat_minor": 0,
  "metadata": {
    "colab": {
      "provenance": []
    },
    "kernelspec": {
      "name": "python3",
      "display_name": "Python 3"
    },
    "language_info": {
      "name": "python"
    }
  },
  "cells": [
    {
      "cell_type": "code",
      "execution_count": 14,
      "metadata": {
        "colab": {
          "base_uri": "https://localhost:8080/"
        },
        "id": "96tLm9j0kC0t",
        "outputId": "0faea5f8-d92a-4210-ad53-18d01581af98"
      },
      "outputs": [
        {
          "output_type": "stream",
          "name": "stdout",
          "text": [
            "Accuracy: 0.8\n"
          ]
        }
      ],
      "source": [
        "import numpy as np\n",
        "\n",
        "# Generate dummy data for demonstration purposes (replace this with your actual data)\n",
        "def generate_dummy_data(samples=100, features=10):\n",
        "    data = np.random.rand(samples, features)\n",
        "    labels = np.random.randint(0, 2, size=samples)  # Binary labels (0 or 1)\n",
        "    return data, labels\n",
        "\n",
        "# Define the AIRS algorithm (Artificial Immune Recognition System)\n",
        "class AIRS:\n",
        "    def __init__(self, num_detectors=10):\n",
        "        self.num_detectors = num_detectors\n",
        "\n",
        "    def train(self, X, y):\n",
        "        # Randomly initialize detectors from the training data\n",
        "        self.detectors = X[np.random.choice(len(X), self.num_detectors, replace=False)]\n",
        "        self.detector_labels = y[np.random.choice(len(X), self.num_detectors, replace=False)]  # Store the labels for detectors\n",
        "\n",
        "    def predict(self, X):\n",
        "        predictions = []\n",
        "        for sample in X:\n",
        "            # Calculate the Euclidean distance between the sample and each detector\n",
        "            distances = np.linalg.norm(self.detectors - sample, axis=1)\n",
        "            # Find the label of the closest detector\n",
        "            closest_detector_index = np.argmin(distances)\n",
        "            predictions.append(self.detector_labels[closest_detector_index])\n",
        "        return predictions\n",
        "\n",
        "# Generate dummy data\n",
        "data, labels = generate_dummy_data()\n",
        "\n",
        "# Split data into training and testing sets\n",
        "split_ratio = 0.8\n",
        "split_index = int(split_ratio * len(data))\n",
        "train_data, test_data = data[:split_index], data[split_index:]\n",
        "train_labels, test_labels = labels[:split_index], labels[split_index:]\n",
        "\n",
        "# Initialize and train the AIRS model\n",
        "airs = AIRS(num_detectors=10)\n",
        "airs.train(train_data, train_labels)\n",
        "\n",
        "# Test AIRS on the test set\n",
        "predictions = airs.predict(test_data)\n",
        "\n",
        "# Evaluate accuracy\n",
        "accuracy = np.mean(predictions == test_labels)\n",
        "print(f\"Accuracy: {accuracy}\")\n"
      ]
    }
  ]
}