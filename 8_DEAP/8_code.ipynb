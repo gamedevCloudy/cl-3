{
  "nbformat": 4,
  "nbformat_minor": 0,
  "metadata": {
    "colab": {
      "provenance": []
    },
    "kernelspec": {
      "name": "python3",
      "display_name": "Python 3"
    },
    "language_info": {
      "name": "python"
    }
  },
  "cells": [
    {
      "cell_type": "code",
      "source": [
        "!pip install deap"
      ],
      "metadata": {
        "colab": {
          "base_uri": "https://localhost:8080/"
        },
        "id": "4XeqTtGZmKVa",
        "outputId": "8ec27cb2-09c0-4094-a972-8c00d8238749"
      },
      "execution_count": 16,
      "outputs": [
        {
          "output_type": "stream",
          "name": "stdout",
          "text": [
            "Collecting deap\n",
            "  Downloading deap-1.4.2-cp311-cp311-manylinux_2_5_x86_64.manylinux1_x86_64.manylinux_2_17_x86_64.manylinux2014_x86_64.whl.metadata (13 kB)\n",
            "Requirement already satisfied: numpy in /usr/local/lib/python3.11/dist-packages (from deap) (2.0.2)\n",
            "Downloading deap-1.4.2-cp311-cp311-manylinux_2_5_x86_64.manylinux1_x86_64.manylinux_2_17_x86_64.manylinux2014_x86_64.whl (135 kB)\n",
            "\u001b[?25l   \u001b[90m━━━━━━━━━━━━━━━━━━━━━━━━━━━━━━━━━━━━━━━━\u001b[0m \u001b[32m0.0/135.4 kB\u001b[0m \u001b[31m?\u001b[0m eta \u001b[36m-:--:--\u001b[0m\r\u001b[2K   \u001b[90m━━━━━━━━━━━━━━━━━━━━━━━━━━━━━━━━━━━━━━━━\u001b[0m \u001b[32m135.4/135.4 kB\u001b[0m \u001b[31m9.7 MB/s\u001b[0m eta \u001b[36m0:00:00\u001b[0m\n",
            "\u001b[?25hInstalling collected packages: deap\n",
            "Successfully installed deap-1.4.2\n"
          ]
        }
      ]
    },
    {
      "cell_type": "code",
      "execution_count": 17,
      "metadata": {
        "colab": {
          "base_uri": "https://localhost:8080/"
        },
        "id": "96tLm9j0kC0t",
        "outputId": "dbf63e0f-4013-4a9a-c902-3ca2e294e09d"
      },
      "outputs": [
        {
          "output_type": "stream",
          "name": "stdout",
          "text": [
            "Best individual: [0.04589889109872622, 0.06070583418507594, 0.043944660740236376]\n",
            "Best fitness: 0.007723039715773135\n"
          ]
        }
      ],
      "source": [
        "import random\n",
        "from deap import base, creator, tools, algorithms\n",
        "\n",
        "# Define the evaluation function (minimize a simple mathematical function)\n",
        "def eval_func(individual):\n",
        "    # Example evaluation function (minimize a quadratic function)\n",
        "    return sum(x ** 2 for x in individual),\n",
        "\n",
        "# DEAP setup\n",
        "creator.create(\"FitnessMin\", base.Fitness, weights=(-1.0,))  # Minimize the fitness value\n",
        "creator.create(\"Individual\", list, fitness=creator.FitnessMin)  # Individuals are lists of floats\n",
        "\n",
        "toolbox = base.Toolbox()\n",
        "\n",
        "# Define attributes and individuals\n",
        "toolbox.register(\"attr_float\", random.uniform, -5.0, 5.0)  # Float values between -5 and 5\n",
        "toolbox.register(\"individual\", tools.initRepeat, creator.Individual, toolbox.attr_float, n=3)  # 3-dimensional individual\n",
        "toolbox.register(\"population\", tools.initRepeat, list, toolbox.individual)\n",
        "\n",
        "# Evaluation function and genetic operators\n",
        "toolbox.register(\"evaluate\", eval_func)\n",
        "toolbox.register(\"mate\", tools.cxBlend, alpha=0.5)  # Blend crossover\n",
        "toolbox.register(\"mutate\", tools.mutGaussian, mu=0, sigma=1, indpb=0.2)  # Gaussian mutation\n",
        "toolbox.register(\"select\", tools.selTournament, tournsize=3)  # Tournament selection\n",
        "\n",
        "# Create population\n",
        "population = toolbox.population(n=50)\n",
        "\n",
        "# Genetic Algorithm parameters\n",
        "generations = 20\n",
        "\n",
        "# Run the algorithm\n",
        "for gen in range(generations):\n",
        "    # Apply genetic operations (crossover and mutation)\n",
        "    offspring = algorithms.varAnd(population, toolbox, cxpb=0.5, mutpb=0.1)\n",
        "\n",
        "    # Evaluate the fitness of the offspring\n",
        "    fits = list(map(toolbox.evaluate, offspring))  # Evaluate using the map function\n",
        "    for fit, ind in zip(fits, offspring):\n",
        "        ind.fitness.values = fit  # Assign fitness values to individuals\n",
        "\n",
        "    # Select the next generation\n",
        "    population = toolbox.select(offspring, k=len(population))\n",
        "\n",
        "# Get the best individual after generations\n",
        "best_ind = tools.selBest(population, k=1)[0]\n",
        "best_fitness = best_ind.fitness.values[0]\n",
        "\n",
        "# Print the results\n",
        "print(\"Best individual:\", best_ind)\n",
        "print(\"Best fitness:\", best_fitness)\n"
      ]
    }
  ]
}